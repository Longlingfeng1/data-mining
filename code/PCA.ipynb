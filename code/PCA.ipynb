{
 "cells": [
  {
   "cell_type": "code",
   "execution_count": 4,
   "metadata": {},
   "outputs": [],
   "source": [
    "#主成分分析 降维\n",
    "import pandas as pd\n",
    "#参数初始化\n",
    "inputfile = '../data/principal_component.xls'\n",
    "outputfile = '../tmp/dimention_reducted.xls' #降维后的数据\n",
    "data = pd.read_excel(inputfile, header = None) #读入数据"
   ]
  },
  {
   "cell_type": "code",
   "execution_count": 5,
   "metadata": {},
   "outputs": [
    {
     "data": {
      "text/plain": [
       "PCA(copy=True, iterated_power='auto', n_components=None, random_state=None,\n",
       "  svd_solver='auto', tol=0.0, whiten=False)"
      ]
     },
     "execution_count": 5,
     "metadata": {},
     "output_type": "execute_result"
    }
   ],
   "source": [
    "from sklearn.decomposition import PCA\n",
    "pca = PCA()\n",
    "pca.fit(data)"
   ]
  },
  {
   "cell_type": "code",
   "execution_count": 6,
   "metadata": {},
   "outputs": [
    {
     "data": {
      "text/plain": [
       "array([[ 0.56788461,  0.2280431 ,  0.23281436,  0.22427336,  0.3358618 ,\n",
       "         0.43679539,  0.03861081,  0.46466998],\n",
       "       [ 0.64801531,  0.24732373, -0.17085432, -0.2089819 , -0.36050922,\n",
       "        -0.55908747,  0.00186891,  0.05910423],\n",
       "       [-0.45139763,  0.23802089, -0.17685792, -0.11843804, -0.05173347,\n",
       "        -0.20091919, -0.00124421,  0.80699041],\n",
       "       [-0.19404741,  0.9021939 , -0.00730164, -0.01424541,  0.03106289,\n",
       "         0.12563004,  0.11152105, -0.3448924 ],\n",
       "       [-0.06133747, -0.03383817,  0.12652433,  0.64325682, -0.3896425 ,\n",
       "        -0.10681901,  0.63233277,  0.04720838],\n",
       "       [ 0.02579655, -0.06678747,  0.12816343, -0.57023937, -0.52642373,\n",
       "         0.52280144,  0.31167833,  0.0754221 ],\n",
       "       [-0.03800378,  0.09520111,  0.15593386,  0.34300352, -0.56640021,\n",
       "         0.18985251, -0.69902952,  0.04505823],\n",
       "       [-0.10147399,  0.03937889,  0.91023327, -0.18760016,  0.06193777,\n",
       "        -0.34598258, -0.02090066,  0.02137393]])"
      ]
     },
     "execution_count": 6,
     "metadata": {},
     "output_type": "execute_result"
    }
   ],
   "source": [
    "pca.components_ #返回模型的各个特征向量"
   ]
  },
  {
   "cell_type": "code",
   "execution_count": 7,
   "metadata": {},
   "outputs": [
    {
     "data": {
      "text/plain": [
       "array([7.74011263e-01, 1.56949443e-01, 4.27594216e-02, 2.40659228e-02,\n",
       "       1.50278048e-03, 4.10990447e-04, 2.07718405e-04, 9.24594471e-05])"
      ]
     },
     "execution_count": 7,
     "metadata": {},
     "output_type": "execute_result"
    }
   ],
   "source": [
    "pca.explained_variance_ratio_ #返回各个成分各自的方差百分比"
   ]
  },
  {
   "cell_type": "code",
   "execution_count": 8,
   "metadata": {},
   "outputs": [],
   "source": [
    "pca = PCA(3)"
   ]
  },
  {
   "cell_type": "code",
   "execution_count": 9,
   "metadata": {},
   "outputs": [
    {
     "data": {
      "text/plain": [
       "PCA(copy=True, iterated_power='auto', n_components=3, random_state=None,\n",
       "  svd_solver='auto', tol=0.0, whiten=False)"
      ]
     },
     "execution_count": 9,
     "metadata": {},
     "output_type": "execute_result"
    }
   ],
   "source": [
    "pca.fit(data)"
   ]
  },
  {
   "cell_type": "code",
   "execution_count": 10,
   "metadata": {},
   "outputs": [],
   "source": [
    "low_d =pca.transform(data) #降低纬度"
   ]
  },
  {
   "cell_type": "code",
   "execution_count": 11,
   "metadata": {},
   "outputs": [],
   "source": [
    "pd.DataFrame(low_d).to_excel(outputfile)"
   ]
  },
  {
   "cell_type": "code",
   "execution_count": 12,
   "metadata": {},
   "outputs": [
    {
     "data": {
      "text/plain": [
       "array([[41.81945026, 17.92938537,  7.42743613,  6.38423781,  7.51911186,\n",
       "         7.95581778,  1.89450158, 22.64634237],\n",
       "       [26.03033486,  8.31048339, 11.0923029 , 10.50941053, 13.73592734,\n",
       "        19.29219354,  1.55616178, 10.69991334],\n",
       "       [12.8912027 ,  4.7200299 ,  4.15574756,  3.88084002,  4.15590258,\n",
       "         5.95354081,  0.63142514,  3.10031979],\n",
       "       [21.95107023,  7.86983692,  5.61296149,  5.00363184,  5.46598715,\n",
       "         7.32692984,  1.00043437,  6.90279388],\n",
       "       [33.2494621 , 16.9295226 ,  6.97070109,  6.54184048,  8.78799069,\n",
       "         9.47854775,  1.76803069, 25.48379317],\n",
       "       [35.30223656, 14.31635159, 16.19611986, 15.83211443, 22.51688172,\n",
       "        30.25654088,  2.46591519, 25.94480913],\n",
       "       [22.0404299 ,  7.67212745,  9.96458085,  9.59042702, 12.69748404,\n",
       "        17.7402549 ,  1.39886681, 10.62704002],\n",
       "       [47.82344306, 16.03581175, 11.11907058,  9.5362307 , 11.08119152,\n",
       "        14.24461981,  2.12478649, 16.79265084],\n",
       "       [40.72333307, 17.98533192, 20.14597677, 19.9884634 , 29.35835797,\n",
       "        39.0457226 ,  3.09998769, 36.25975467],\n",
       "       [24.50981762,  9.36433655,  9.52005459,  9.10471477, 12.0327766 ,\n",
       "        16.33445643,  1.4768007 , 13.14701555],\n",
       "       [13.3825743 ,  5.67777166,  4.16004148,  3.95836057,  4.47861564,\n",
       "         6.08501405,  0.6981744 ,  5.42443324],\n",
       "       [ 1.44783093,  2.03894892,  0.87728401,  1.09467426,  0.69475478,\n",
       "         1.13961005,  0.11798269,  0.47858262],\n",
       "       [32.5440038 , 13.14166028,  8.856767  ,  8.14476825, 10.36303253,\n",
       "        13.1291864 ,  1.68627384, 17.31120923],\n",
       "       [37.98481061, 11.3084017 , 11.30095568, 10.03028594, 12.01198559,\n",
       "        16.61756516,  1.80165862, 10.78134217]])"
      ]
     },
     "execution_count": 12,
     "metadata": {},
     "output_type": "execute_result"
    }
   ],
   "source": [
    "pca.inverse_transform(low_d)#复原数据"
   ]
  },
  {
   "cell_type": "code",
   "execution_count": 13,
   "metadata": {},
   "outputs": [
    {
     "data": {
      "text/plain": [
       "array([[  8.19133694,  16.90402785,   3.90991029],\n",
       "       [  0.28527403,  -6.48074989,  -4.62870368],\n",
       "       [-23.70739074,  -2.85245701,  -0.4965231 ],\n",
       "       [-14.43202637,   2.29917325,  -1.50272151],\n",
       "       [  5.4304568 ,  10.00704077,   9.52086923],\n",
       "       [ 24.15955898,  -9.36428589,   0.72657857],\n",
       "       [ -3.66134607,  -7.60198615,  -2.36439873],\n",
       "       [ 13.96761214,  13.89123979,  -6.44917778],\n",
       "       [ 40.88093588, -13.25685287,   4.16539368],\n",
       "       [ -1.74887665,  -4.23112299,  -0.58980995],\n",
       "       [-21.94321959,  -2.36645883,   1.33203832],\n",
       "       [-36.70868069,  -6.00536554,   3.97183515],\n",
       "       [  3.28750663,   4.86380886,   1.00424688],\n",
       "       [  5.99885871,   4.19398863,  -8.59953736]])"
      ]
     },
     "execution_count": 13,
     "metadata": {},
     "output_type": "execute_result"
    }
   ],
   "source": [
    "low_d"
   ]
  },
  {
   "cell_type": "code",
   "execution_count": null,
   "metadata": {},
   "outputs": [],
   "source": []
  }
 ],
 "metadata": {
  "kernelspec": {
   "display_name": "Python 3",
   "language": "python",
   "name": "python3"
  },
  "language_info": {
   "codemirror_mode": {
    "name": "ipython",
    "version": 3
   },
   "file_extension": ".py",
   "mimetype": "text/x-python",
   "name": "python",
   "nbconvert_exporter": "python",
   "pygments_lexer": "ipython3",
   "version": "3.7.0"
  }
 },
 "nbformat": 4,
 "nbformat_minor": 2
}
